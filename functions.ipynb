{
 "cells": [
  {
   "cell_type": "code",
   "execution_count": 47,
   "id": "d3f2d3fc-ebec-4a30-bce6-025082299d94",
   "metadata": {},
   "outputs": [],
   "source": [
    "import numpy as np"
   ]
  },
  {
   "cell_type": "code",
   "execution_count": 48,
   "id": "903034ae-192c-4f9c-a43c-73b6bf0f1a9d",
   "metadata": {},
   "outputs": [
    {
     "data": {
      "text/plain": [
       "0.12939582494933521"
      ]
     },
     "execution_count": 48,
     "metadata": {},
     "output_type": "execute_result"
    }
   ],
   "source": [
    "np.random.random()"
   ]
  },
  {
   "cell_type": "code",
   "execution_count": 49,
   "id": "69f8a4c0-95f9-4540-a2cb-5cd6df829ddd",
   "metadata": {},
   "outputs": [
    {
     "data": {
      "text/plain": [
       "array([0.15416284, 0.7400497 , 0.26331502])"
      ]
     },
     "execution_count": 49,
     "metadata": {},
     "output_type": "execute_result"
    }
   ],
   "source": [
    "np.random.seed(12)    #you will get the same random numbers evrytime\n",
    "a=np.random.random(3)\n",
    "a"
   ]
  },
  {
   "cell_type": "code",
   "execution_count": 50,
   "id": "9ca9152a-8866-4baa-a470-935933d59d17",
   "metadata": {},
   "outputs": [
    {
     "data": {
      "text/plain": [
       "array([0.53373939, 0.01457496, 0.91874701, 0.90071485, 0.03342143])"
      ]
     },
     "execution_count": 50,
     "metadata": {},
     "output_type": "execute_result"
    }
   ],
   "source": [
    "np.random.random(5)     # you will get an array of 5 random numbers."
   ]
  },
  {
   "cell_type": "markdown",
   "id": "c365fe71-85dc-4014-ae29-44b093991728",
   "metadata": {},
   "source": [
    " "
   ]
  },
  {
   "cell_type": "code",
   "execution_count": 51,
   "id": "67d395ad-a2b4-4393-acbf-df85f233540d",
   "metadata": {},
   "outputs": [
    {
     "data": {
      "text/plain": [
       "9.698645353925818"
      ]
     },
     "execution_count": 51,
     "metadata": {},
     "output_type": "execute_result"
    }
   ],
   "source": [
    "np.random.uniform(3,10)      #you get random float numbers between (3-10)"
   ]
  },
  {
   "cell_type": "code",
   "execution_count": 52,
   "id": "9942a41b-d6e4-4806-a57a-f930713d13c9",
   "metadata": {},
   "outputs": [
    {
     "data": {
      "text/plain": [
       "array([14.58372281, 29.09900694, 61.00223525, 94.47828847, 85.42081857,\n",
       "        1.22366412, 52.60137669, 55.65172569, 49.05236395, 77.04528125])"
      ]
     },
     "execution_count": 52,
     "metadata": {},
     "output_type": "execute_result"
    }
   ],
   "source": [
    "np.random.uniform(1,100,10)   # you get 10 random numbers between (1-100)"
   ]
  },
  {
   "cell_type": "code",
   "execution_count": 53,
   "id": "dbafc476-f8d2-4f70-b3c4-1bdfecaacae1",
   "metadata": {},
   "outputs": [
    {
     "data": {
      "text/plain": [
       "array([[16.91095856, 76.69148458,  3.06017   , 14.38580766, 12.51102872],\n",
       "       [31.67986086, 67.47381188, 47.65174805, 81.80066151, 29.66909157]])"
      ]
     },
     "execution_count": 53,
     "metadata": {},
     "output_type": "execute_result"
    }
   ],
   "source": [
    "np.random.uniform(1,100,10).reshape(2,5)"
   ]
  },
  {
   "cell_type": "code",
   "execution_count": null,
   "id": "2c8e9390-8b2f-4edb-9d75-e87282aa355a",
   "metadata": {},
   "outputs": [],
   "source": []
  },
  {
   "cell_type": "code",
   "execution_count": 54,
   "id": "a1630b81-3d17-4081-b389-05c33d42d22b",
   "metadata": {},
   "outputs": [
    {
     "data": {
      "text/plain": [
       "2"
      ]
     },
     "execution_count": 54,
     "metadata": {},
     "output_type": "execute_result"
    }
   ],
   "source": [
    "np.random.randint(1,10)   # integer instead of float"
   ]
  },
  {
   "cell_type": "code",
   "execution_count": 69,
   "id": "7d76c1a1-f707-4f54-ba39-c25d17aff4e6",
   "metadata": {},
   "outputs": [
    {
     "data": {
      "text/plain": [
       "array([6, 1, 7, 7, 4], dtype=int32)"
      ]
     },
     "execution_count": 69,
     "metadata": {},
     "output_type": "execute_result"
    }
   ],
   "source": [
    "b=np.random.randint(1,10,5)\n",
    "b"
   ]
  },
  {
   "cell_type": "code",
   "execution_count": 70,
   "id": "5c58564c-5475-4754-8d87-66aebb4ec9a0",
   "metadata": {},
   "outputs": [
    {
     "data": {
      "text/plain": [
       "np.int32(7)"
      ]
     },
     "execution_count": 70,
     "metadata": {},
     "output_type": "execute_result"
    }
   ],
   "source": [
    "np.max(b)"
   ]
  },
  {
   "cell_type": "code",
   "execution_count": 71,
   "id": "b090ec52-f1ba-4547-9708-166d5a160b45",
   "metadata": {},
   "outputs": [
    {
     "data": {
      "text/plain": [
       "np.int32(1)"
      ]
     },
     "execution_count": 71,
     "metadata": {},
     "output_type": "execute_result"
    }
   ],
   "source": [
    "np.min(b)"
   ]
  },
  {
   "cell_type": "markdown",
   "id": "caa453a9-0f90-42cb-b425-d39d97f3d8be",
   "metadata": {},
   "source": [
    " "
   ]
  },
  {
   "cell_type": "code",
   "execution_count": 76,
   "id": "5f536445-650d-411c-99e2-112a52c53f51",
   "metadata": {},
   "outputs": [
    {
     "data": {
      "text/plain": [
       "np.int64(2)"
      ]
     },
     "execution_count": 76,
     "metadata": {},
     "output_type": "execute_result"
    }
   ],
   "source": [
    "np.argmax(b)   # returns the index"
   ]
  },
  {
   "cell_type": "code",
   "execution_count": 77,
   "id": "844a4184-db63-4127-89f0-b4304d5c193b",
   "metadata": {},
   "outputs": [
    {
     "data": {
      "text/plain": [
       "np.int64(1)"
      ]
     },
     "execution_count": 77,
     "metadata": {},
     "output_type": "execute_result"
    }
   ],
   "source": [
    "np.argmin(b)"
   ]
  },
  {
   "cell_type": "code",
   "execution_count": null,
   "id": "aeacdc16-e306-40a1-bcce-811963c948e0",
   "metadata": {},
   "outputs": [],
   "source": []
  },
  {
   "cell_type": "code",
   "execution_count": 124,
   "id": "19c15b53-fcb7-4af7-abd1-e126e6ff9a67",
   "metadata": {},
   "outputs": [
    {
     "data": {
      "text/plain": [
       "7"
      ]
     },
     "execution_count": 124,
     "metadata": {},
     "output_type": "execute_result"
    }
   ],
   "source": [
    "int(b[np.argmax(b)])"
   ]
  },
  {
   "cell_type": "code",
   "execution_count": 123,
   "id": "a290d7b6-488b-45e3-b8c0-cf5cc1fbaba3",
   "metadata": {},
   "outputs": [
    {
     "data": {
      "text/plain": [
       "1"
      ]
     },
     "execution_count": 123,
     "metadata": {},
     "output_type": "execute_result"
    }
   ],
   "source": [
    "int(b[np.argmin(b)])"
   ]
  },
  {
   "cell_type": "code",
   "execution_count": null,
   "id": "607b41c0-5942-45bf-9b30-14bebea18ae4",
   "metadata": {},
   "outputs": [],
   "source": []
  },
  {
   "cell_type": "code",
   "execution_count": 82,
   "id": "b3225b59-c1fb-456a-9cb9-75190b8c78bb",
   "metadata": {},
   "outputs": [
    {
     "data": {
      "text/plain": [
       "array([3, 7, 5, 8, 7, 3], dtype=int32)"
      ]
     },
     "execution_count": 82,
     "metadata": {},
     "output_type": "execute_result"
    }
   ],
   "source": [
    "x = np.random.randint(1,10,6)\n",
    "x"
   ]
  },
  {
   "cell_type": "code",
   "execution_count": 83,
   "id": "4e086a9f-88de-457e-b4ef-e1af45b9a5e4",
   "metadata": {},
   "outputs": [
    {
     "data": {
      "text/plain": [
       "array([-1, -1, -1,  8, -1, -1], dtype=int32)"
      ]
     },
     "execution_count": 83,
     "metadata": {},
     "output_type": "execute_result"
    }
   ],
   "source": [
    "x[x%2==1]=-1\n",
    "x"
   ]
  },
  {
   "cell_type": "code",
   "execution_count": null,
   "id": "173e780e-454c-4eea-9958-067025c6eab2",
   "metadata": {},
   "outputs": [],
   "source": []
  },
  {
   "cell_type": "code",
   "execution_count": null,
   "id": "1e51837b-d6f9-4789-854b-e0e61bca0b9a",
   "metadata": {},
   "outputs": [],
   "source": []
  },
  {
   "cell_type": "code",
   "execution_count": 93,
   "id": "8ae8ab40-4c04-4188-8d42-3ba815f0f93f",
   "metadata": {},
   "outputs": [
    {
     "data": {
      "text/plain": [
       "array([-1, -1, -1,  8, -1, -1], dtype=int32)"
      ]
     },
     "execution_count": 93,
     "metadata": {},
     "output_type": "execute_result"
    }
   ],
   "source": [
    "np.where(x%2==1,-1,x)\n",
    "# If condition is True, replace with -1; else keep the value"
   ]
  },
  {
   "cell_type": "code",
   "execution_count": null,
   "id": "0390a4c7-ccf8-499f-aec1-3be761414a6d",
   "metadata": {},
   "outputs": [],
   "source": []
  },
  {
   "cell_type": "code",
   "execution_count": 108,
   "id": "4e1ae70a-528d-41e9-aa16-9c9c827685e2",
   "metadata": {},
   "outputs": [
    {
     "data": {
      "text/plain": [
       "array([1, 4, 3, 2, 5])"
      ]
     },
     "execution_count": 108,
     "metadata": {},
     "output_type": "execute_result"
    }
   ],
   "source": [
    "arr = np.array([1,4,3,2,5])\n",
    "arr"
   ]
  },
  {
   "cell_type": "code",
   "execution_count": 125,
   "id": "5090432c-e822-4494-be15-c7b0a128eede",
   "metadata": {},
   "outputs": [
    {
     "data": {
      "text/plain": [
       "array([1, 2, 3, 4, 5])"
      ]
     },
     "execution_count": 125,
     "metadata": {},
     "output_type": "execute_result"
    }
   ],
   "source": [
    "arr=np.sort(arr)\n",
    "arr"
   ]
  },
  {
   "cell_type": "code",
   "execution_count": 126,
   "id": "e363d941-5975-4da7-9636-a0c1db4e974e",
   "metadata": {},
   "outputs": [
    {
     "data": {
      "text/plain": [
       "array([2., 4.])"
      ]
     },
     "execution_count": 126,
     "metadata": {},
     "output_type": "execute_result"
    }
   ],
   "source": [
    "np.percentile(arr,[25,75])"
   ]
  },
  {
   "cell_type": "code",
   "execution_count": 127,
   "id": "2e40c50b-4eac-4da6-869d-64f9158659ad",
   "metadata": {},
   "outputs": [
    {
     "data": {
      "text/plain": [
       "3"
      ]
     },
     "execution_count": 127,
     "metadata": {},
     "output_type": "execute_result"
    }
   ],
   "source": [
    "i=int(np.percentile(arr,50))\n",
    "i"
   ]
  },
  {
   "cell_type": "code",
   "execution_count": null,
   "id": "03757fa8-22b5-4b1a-9ccd-9dc138f77efb",
   "metadata": {},
   "outputs": [],
   "source": []
  },
  {
   "cell_type": "code",
   "execution_count": null,
   "id": "eadbbe31-cad2-4668-b808-cbeff83f0276",
   "metadata": {},
   "outputs": [],
   "source": []
  }
 ],
 "metadata": {
  "kernelspec": {
   "display_name": "Python 3 (ipykernel)",
   "language": "python",
   "name": "python3"
  },
  "language_info": {
   "codemirror_mode": {
    "name": "ipython",
    "version": 3
   },
   "file_extension": ".py",
   "mimetype": "text/x-python",
   "name": "python",
   "nbconvert_exporter": "python",
   "pygments_lexer": "ipython3",
   "version": "3.12.6"
  }
 },
 "nbformat": 4,
 "nbformat_minor": 5
}
