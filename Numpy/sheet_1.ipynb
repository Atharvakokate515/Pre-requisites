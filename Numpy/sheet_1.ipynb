{
 "cells": [
  {
   "cell_type": "markdown",
   "id": "eea3a795-c288-4f37-a611-23d8a7499ed9",
   "metadata": {},
   "source": [
    "### 1. Import the numpy package under the name np"
   ]
  },
  {
   "cell_type": "code",
   "execution_count": 2,
   "id": "3aa39a82-20ce-4ef7-9ba6-e6d48b96ee44",
   "metadata": {},
   "outputs": [],
   "source": [
    "import numpy as np"
   ]
  },
  {
   "cell_type": "markdown",
   "id": "7aeff792-9998-4e4f-98fc-4d1c81e9905e",
   "metadata": {},
   "source": [
    "### 2. Print the numpy 'Version' and the 'Configuration' "
   ]
  },
  {
   "cell_type": "code",
   "execution_count": 7,
   "id": "4cd9034a-7001-4c4c-bb6a-3f5d0d0bfe06",
   "metadata": {},
   "outputs": [
    {
     "name": "stdout",
     "output_type": "stream",
     "text": [
      "2.1.1\n",
      "Build Dependencies:\n",
      "  blas:\n",
      "    detection method: pkgconfig\n",
      "    found: true\n",
      "    include directory: C:/Users/runneradmin/AppData/Local/Temp/cibw-run-jy1pqop7/cp312-win_amd64/build/venv/Lib/site-packages/scipy_openblas64/include\n",
      "    lib directory: C:/Users/runneradmin/AppData/Local/Temp/cibw-run-jy1pqop7/cp312-win_amd64/build/venv/Lib/site-packages/scipy_openblas64/lib\n",
      "    name: scipy-openblas\n",
      "    openblas configuration: OpenBLAS 0.3.27  USE64BITINT DYNAMIC_ARCH NO_AFFINITY\n",
      "      Haswell MAX_THREADS=24\n",
      "    pc file directory: D:/a/numpy/numpy/.openblas\n",
      "    version: 0.3.27\n",
      "  lapack:\n",
      "    detection method: pkgconfig\n",
      "    found: true\n",
      "    include directory: C:/Users/runneradmin/AppData/Local/Temp/cibw-run-jy1pqop7/cp312-win_amd64/build/venv/Lib/site-packages/scipy_openblas64/include\n",
      "    lib directory: C:/Users/runneradmin/AppData/Local/Temp/cibw-run-jy1pqop7/cp312-win_amd64/build/venv/Lib/site-packages/scipy_openblas64/lib\n",
      "    name: scipy-openblas\n",
      "    openblas configuration: OpenBLAS 0.3.27  USE64BITINT DYNAMIC_ARCH NO_AFFINITY\n",
      "      Haswell MAX_THREADS=24\n",
      "    pc file directory: D:/a/numpy/numpy/.openblas\n",
      "    version: 0.3.27\n",
      "Compilers:\n",
      "  c:\n",
      "    commands: cl\n",
      "    linker: link\n",
      "    name: msvc\n",
      "    version: 19.29.30154\n",
      "  c++:\n",
      "    commands: cl\n",
      "    linker: link\n",
      "    name: msvc\n",
      "    version: 19.29.30154\n",
      "  cython:\n",
      "    commands: cython\n",
      "    linker: cython\n",
      "    name: cython\n",
      "    version: 3.0.11\n",
      "Machine Information:\n",
      "  build:\n",
      "    cpu: x86_64\n",
      "    endian: little\n",
      "    family: x86_64\n",
      "    system: windows\n",
      "  host:\n",
      "    cpu: x86_64\n",
      "    endian: little\n",
      "    family: x86_64\n",
      "    system: windows\n",
      "Python Information:\n",
      "  path: C:\\Users\\runneradmin\\AppData\\Local\\Temp\\build-env-n85o8vnt\\Scripts\\python.exe\n",
      "  version: '3.12'\n",
      "SIMD Extensions:\n",
      "  baseline:\n",
      "  - SSE\n",
      "  - SSE2\n",
      "  - SSE3\n",
      "  found:\n",
      "  - SSSE3\n",
      "  - SSE41\n",
      "  - POPCNT\n",
      "  - SSE42\n",
      "  - AVX\n",
      "  - F16C\n",
      "  - FMA3\n",
      "  - AVX2\n",
      "  not found:\n",
      "  - AVX512F\n",
      "  - AVX512CD\n",
      "  - AVX512_SKX\n",
      "  - AVX512_CLX\n",
      "  - AVX512_CNL\n",
      "  - AVX512_ICL\n",
      "\n"
     ]
    }
   ],
   "source": [
    "print(np.__version__)\n",
    "np.show_config()"
   ]
  },
  {
   "cell_type": "markdown",
   "id": "b66e8568-02de-4751-9725-f70e3ac42da9",
   "metadata": {},
   "source": [
    "### 3. Create a null vector of size 10"
   ]
  },
  {
   "cell_type": "code",
   "execution_count": 12,
   "id": "37ec04f2-f7ad-4aaf-9674-5ff8496c19c1",
   "metadata": {},
   "outputs": [
    {
     "data": {
      "text/plain": [
       "array([0., 0., 0., 0., 0., 0., 0., 0., 0., 0.])"
      ]
     },
     "execution_count": 12,
     "metadata": {},
     "output_type": "execute_result"
    }
   ],
   "source": [
    "np.zeros(10)"
   ]
  },
  {
   "cell_type": "code",
   "execution_count": null,
   "id": "0b4f0551-e8d0-47b1-9037-51a7abf80ce3",
   "metadata": {},
   "outputs": [],
   "source": []
  },
  {
   "cell_type": "markdown",
   "id": "e6c9d7c9-bfff-4ea4-ab9b-cf41d352ad28",
   "metadata": {},
   "source": [
    "### 4. How to find the memory size of any array"
   ]
  },
  {
   "cell_type": "code",
   "execution_count": 13,
   "id": "dc6b663c-0bdd-4691-91b8-ed929b2b0bad",
   "metadata": {},
   "outputs": [
    {
     "name": "stdout",
     "output_type": "stream",
     "text": [
      "800 bytes\n"
     ]
    }
   ],
   "source": [
    "Z = np.zeros((10,10))\n",
    "print(\"%d bytes\" % (Z.size * Z.itemsize))"
   ]
  },
  {
   "cell_type": "code",
   "execution_count": 14,
   "id": "9354aa2b-a5b5-4a4d-8259-211e51fe2a8b",
   "metadata": {},
   "outputs": [
    {
     "data": {
      "text/plain": [
       "800"
      ]
     },
     "execution_count": 14,
     "metadata": {},
     "output_type": "execute_result"
    }
   ],
   "source": [
    "# or\n",
    "Z.nbytes"
   ]
  },
  {
   "cell_type": "markdown",
   "id": "f64d419b-8a5d-45c5-aae0-180db7ec3c1f",
   "metadata": {},
   "source": [
    "### 5. How to get the documentation of the numpy add function from the command line? "
   ]
  },
  {
   "cell_type": "code",
   "execution_count": 18,
   "id": "7bba5715-54ff-42ec-b50d-a8f6993895e0",
   "metadata": {},
   "outputs": [],
   "source": [
    "# %run 'python -c \"import numpy; numpy.info(numpy.add)\"'"
   ]
  },
  {
   "cell_type": "code",
   "execution_count": null,
   "id": "6084ccf1-7f10-4633-a368-4f21176d1786",
   "metadata": {},
   "outputs": [],
   "source": []
  },
  {
   "cell_type": "markdown",
   "id": "c56217ac-f2e3-44d7-aa00-98b6b630c779",
   "metadata": {},
   "source": [
    "### 6. Create a null vector of size 10 but the fifth value which is 1"
   ]
  },
  {
   "cell_type": "code",
   "execution_count": 20,
   "id": "113d3d0d-f02c-4a5c-99f8-0580dd1df288",
   "metadata": {},
   "outputs": [
    {
     "data": {
      "text/plain": [
       "array([0., 0., 0., 0., 1., 0., 0., 0., 0., 0.])"
      ]
     },
     "execution_count": 20,
     "metadata": {},
     "output_type": "execute_result"
    }
   ],
   "source": [
    "x = np.zeros(10)\n",
    "x[4]=1\n",
    "x"
   ]
  },
  {
   "cell_type": "markdown",
   "id": "82cc966e-e2d0-4431-95f1-450dd1913cd6",
   "metadata": {},
   "source": [
    "### 7. Create a vector with values ranging from 10 to 49 \n"
   ]
  },
  {
   "cell_type": "code",
   "execution_count": 22,
   "id": "af0d5c2f-7d37-40e5-bc11-38d3168503ba",
   "metadata": {},
   "outputs": [
    {
     "data": {
      "text/plain": [
       "array([10, 11, 12, 13, 14, 15, 16, 17, 18, 19, 20, 21, 22, 23, 24, 25, 26,\n",
       "       27, 28, 29, 30, 31, 32, 33, 34, 35, 36, 37, 38, 39, 40, 41, 42, 43,\n",
       "       44, 45, 46, 47, 48, 49])"
      ]
     },
     "execution_count": 22,
     "metadata": {},
     "output_type": "execute_result"
    }
   ],
   "source": [
    "np.arange(10,50)"
   ]
  },
  {
   "cell_type": "markdown",
   "id": "5e1bef84-98bc-4aba-b58d-05b2c4625840",
   "metadata": {},
   "source": [
    "### 8. Reverse a vector (first element becomes last)"
   ]
  },
  {
   "cell_type": "code",
   "execution_count": 23,
   "id": "f721a3aa-39f6-41b4-a8d7-ad115fe3c11e",
   "metadata": {},
   "outputs": [
    {
     "data": {
      "text/plain": [
       "array([49, 48, 47, 46, 45, 44, 43, 42, 41, 40, 39, 38, 37, 36, 35, 34, 33,\n",
       "       32, 31, 30, 29, 28, 27, 26, 25, 24, 23, 22, 21, 20, 19, 18, 17, 16,\n",
       "       15, 14, 13, 12, 11, 10,  9,  8,  7,  6,  5,  4,  3,  2,  1,  0])"
      ]
     },
     "execution_count": 23,
     "metadata": {},
     "output_type": "execute_result"
    }
   ],
   "source": [
    "x = np.arange(50)\n",
    "x=x[::-1]\n",
    "x"
   ]
  },
  {
   "cell_type": "markdown",
   "id": "6a7ae998-c8d1-477e-bb48-55fd936852d5",
   "metadata": {},
   "source": [
    "### 9. Create a 3x3 matrix with values ranging from 0 to 8"
   ]
  },
  {
   "cell_type": "code",
   "execution_count": 68,
   "id": "a9bbaefc-398c-41cf-9dd3-20ef3c9b4aa2",
   "metadata": {},
   "outputs": [
    {
     "data": {
      "text/plain": [
       "array([[0, 1, 2],\n",
       "       [3, 4, 5],\n",
       "       [6, 7, 8]])"
      ]
     },
     "execution_count": 68,
     "metadata": {},
     "output_type": "execute_result"
    }
   ],
   "source": [
    "j=np.arange(9).reshape(3,3)\n",
    "j"
   ]
  },
  {
   "cell_type": "markdown",
   "id": "e2186c55-0772-45fe-8b04-e032d224fa0c",
   "metadata": {},
   "source": [
    "### 10. Find indices of non-zero elements from [1,2,0,0,4,0]"
   ]
  },
  {
   "cell_type": "code",
   "execution_count": 45,
   "id": "e2756ac0-34dc-4db0-af6d-620dbafec0e9",
   "metadata": {},
   "outputs": [
    {
     "name": "stdout",
     "output_type": "stream",
     "text": [
      "(array([0, 1, 4]),)\n"
     ]
    }
   ],
   "source": [
    "j=np.nonzero(a)   #return a tuple of indices\n",
    "print(j)"
   ]
  },
  {
   "cell_type": "code",
   "execution_count": 75,
   "id": "af5ad5ef-bec2-4f29-90dd-67e683e2e4ed",
   "metadata": {},
   "outputs": [
    {
     "name": "stdout",
     "output_type": "stream",
     "text": [
      "[array([ True,  True, False, False,  True, False])]\n",
      "[1 2 4]\n"
     ]
    }
   ],
   "source": [
    "# or\n",
    "a = np.array([1, 2, 0, 0, 4, 0])\n",
    "print([a!=0])\n",
    "print(a[a!=0])"
   ]
  },
  {
   "cell_type": "markdown",
   "id": "7229f01d-df65-4345-8ea5-00c451ea566e",
   "metadata": {},
   "source": [
    "### 11. Create a 3x3 identity matrix"
   ]
  },
  {
   "cell_type": "code",
   "execution_count": 80,
   "id": "3730753c-cdd5-4f57-b2e8-f521b733a6df",
   "metadata": {},
   "outputs": [
    {
     "data": {
      "text/plain": [
       "array([[1., 0., 0.],\n",
       "       [0., 1., 0.],\n",
       "       [0., 0., 1.]])"
      ]
     },
     "execution_count": 80,
     "metadata": {},
     "output_type": "execute_result"
    }
   ],
   "source": [
    "np.identity(3)\n",
    "# or\n",
    "np.eye(3)"
   ]
  },
  {
   "cell_type": "markdown",
   "id": "2365065b-8c0d-4a13-a31d-ae5d71ba1b6c",
   "metadata": {},
   "source": [
    "### 12. Create a 3x3x3 array with random values"
   ]
  },
  {
   "cell_type": "code",
   "execution_count": 82,
   "id": "389ad953-776d-401f-940b-7e8d62f91501",
   "metadata": {},
   "outputs": [
    {
     "data": {
      "text/plain": [
       "array([[[0.05201674, 0.93655794, 0.96685124],\n",
       "        [0.39045435, 0.97972965, 0.02711556],\n",
       "        [0.70915995, 0.33171281, 0.37166649]],\n",
       "\n",
       "       [[0.35922056, 0.44494909, 0.74817625],\n",
       "        [0.36936013, 0.65469488, 0.12838081],\n",
       "        [0.88402868, 0.20357505, 0.69298925]],\n",
       "\n",
       "       [[0.28614958, 0.33780373, 0.52573384],\n",
       "        [0.93131253, 0.21089569, 0.82597811],\n",
       "        [0.20769694, 0.91672815, 0.01970053]]])"
      ]
     },
     "execution_count": 82,
     "metadata": {},
     "output_type": "execute_result"
    }
   ],
   "source": [
    "np.random.random((3,3,3))"
   ]
  },
  {
   "cell_type": "markdown",
   "id": "c34a138c-45f7-4352-9187-6a60fa79ea3f",
   "metadata": {},
   "source": [
    "### 13. Create a 10x10 array with random values and find the minimum and maximum values"
   ]
  },
  {
   "cell_type": "code",
   "execution_count": 88,
   "id": "c681ffc5-56cb-4fb6-8770-2ecde0737fb1",
   "metadata": {},
   "outputs": [
    {
     "data": {
      "text/plain": [
       "array([[0.02191267, 0.28987752, 0.89029302, 0.6455016 , 0.4921898 ,\n",
       "        0.70392945, 0.25755266, 0.60248421, 0.06813191, 0.28045426],\n",
       "       [0.91632255, 0.30129484, 0.92213445, 0.68830271, 0.84272543,\n",
       "        0.00878452, 0.12192723, 0.30326963, 0.18902444, 0.02497228],\n",
       "       [0.99223954, 0.36305563, 0.24873714, 0.06445605, 0.09747721,\n",
       "        0.95978816, 0.42580858, 0.8187029 , 0.26729688, 0.32242767],\n",
       "       [0.82446834, 0.12245516, 0.89131615, 0.80249224, 0.4877299 ,\n",
       "        0.2783142 , 0.50013361, 0.98014204, 0.66006959, 0.81089839],\n",
       "       [0.45651802, 0.72632386, 0.789174  , 0.39171212, 0.59675902,\n",
       "        0.35158313, 0.9020126 , 0.70424016, 0.99216893, 0.56863638],\n",
       "       [0.2048987 , 0.94801817, 0.47700591, 0.46213099, 0.27998191,\n",
       "        0.43762251, 0.25599422, 0.55431001, 0.02448213, 0.2583291 ],\n",
       "       [0.17186108, 0.88025696, 0.00838315, 0.81231907, 0.91499578,\n",
       "        0.29666552, 0.20097827, 0.09199909, 0.55338756, 0.1817113 ],\n",
       "       [0.43823522, 0.61773984, 0.77298504, 0.62537002, 0.05485304,\n",
       "        0.63933912, 0.25457737, 0.50473506, 0.45589542, 0.2259659 ],\n",
       "       [0.49851705, 0.83211164, 0.22424593, 0.36398227, 0.53687543,\n",
       "        0.80131121, 0.65198667, 0.82236461, 0.50220877, 0.63544248],\n",
       "       [0.76478202, 0.2906178 , 0.36563529, 0.866039  , 0.33976928,\n",
       "        0.61583817, 0.41581447, 0.85099994, 0.71231496, 0.34441122]])"
      ]
     },
     "execution_count": 88,
     "metadata": {},
     "output_type": "execute_result"
    }
   ],
   "source": [
    "a=np.random.random((10,10))\n",
    "a"
   ]
  },
  {
   "cell_type": "code",
   "execution_count": 93,
   "id": "ef7db621-54f7-4b47-91c7-b6a7da24416b",
   "metadata": {},
   "outputs": [
    {
     "data": {
      "text/plain": [
       "np.float64(0.9922395438660558)"
      ]
     },
     "execution_count": 93,
     "metadata": {},
     "output_type": "execute_result"
    }
   ],
   "source": [
    "a.max()"
   ]
  },
  {
   "cell_type": "code",
   "execution_count": 121,
   "id": "5d6abb2a-930d-4b40-a3a5-7af25fb1fe27",
   "metadata": {},
   "outputs": [
    {
     "data": {
      "text/plain": [
       "np.float64(0.008383152404961347)"
      ]
     },
     "execution_count": 121,
     "metadata": {},
     "output_type": "execute_result"
    }
   ],
   "source": [
    "a.min()"
   ]
  },
  {
   "cell_type": "code",
   "execution_count": null,
   "id": "dbe3a06c-c501-466c-931f-dd320a4180a1",
   "metadata": {},
   "outputs": [],
   "source": []
  },
  {
   "cell_type": "markdown",
   "id": "f9094ae9-7bf8-4963-8d7a-e808ad1b5365",
   "metadata": {},
   "source": [
    "### 14. Create a random vector of size 30 and find the mean value"
   ]
  },
  {
   "cell_type": "code",
   "execution_count": 122,
   "id": "90178e6c-3145-4902-9c5f-4a42fbc195ae",
   "metadata": {},
   "outputs": [
    {
     "data": {
      "text/plain": [
       "np.float64(0.4567626188170462)"
      ]
     },
     "execution_count": 122,
     "metadata": {},
     "output_type": "execute_result"
    }
   ],
   "source": [
    "x=np.random.random(30)\n",
    "np.mean(x)"
   ]
  },
  {
   "cell_type": "markdown",
   "id": "73a8bd5c-8841-4bcc-a211-399651d4f88c",
   "metadata": {},
   "source": [
    "### 15. Create a 2d array with 1 on the border and 0 inside"
   ]
  },
  {
   "cell_type": "code",
   "execution_count": 123,
   "id": "91f6a402-d728-4f79-b40c-7ee66f350a32",
   "metadata": {},
   "outputs": [
    {
     "data": {
      "text/plain": [
       "array([[1., 1., 1., 1., 1., 1., 1., 1., 1., 1.],\n",
       "       [1., 0., 0., 0., 0., 0., 0., 0., 0., 1.],\n",
       "       [1., 0., 0., 0., 0., 0., 0., 0., 0., 1.],\n",
       "       [1., 0., 0., 0., 0., 0., 0., 0., 0., 1.],\n",
       "       [1., 0., 0., 0., 0., 0., 0., 0., 0., 1.],\n",
       "       [1., 0., 0., 0., 0., 0., 0., 0., 0., 1.],\n",
       "       [1., 0., 0., 0., 0., 0., 0., 0., 0., 1.],\n",
       "       [1., 0., 0., 0., 0., 0., 0., 0., 0., 1.],\n",
       "       [1., 0., 0., 0., 0., 0., 0., 0., 0., 1.],\n",
       "       [1., 1., 1., 1., 1., 1., 1., 1., 1., 1.]])"
      ]
     },
     "execution_count": 123,
     "metadata": {},
     "output_type": "execute_result"
    }
   ],
   "source": [
    "x = np.ones((10,10))\n",
    "x[1:-1,1:-1]=0\n",
    "x"
   ]
  },
  {
   "cell_type": "markdown",
   "id": "bb589c88-3ea0-4fa3-b6a6-c7b156dd5b0a",
   "metadata": {},
   "source": [
    "### 16. How to add a border (filled with 0's) around an existing array?"
   ]
  },
  {
   "cell_type": "code",
   "execution_count": 124,
   "id": "a662370a-9b0f-4c26-83b9-5bf3707fb56f",
   "metadata": {},
   "outputs": [
    {
     "name": "stdout",
     "output_type": "stream",
     "text": [
      "[[0 0 0 0 0]\n",
      " [0 7 6 2 0]\n",
      " [0 2 7 1 0]\n",
      " [0 9 8 9 0]\n",
      " [0 0 0 0 0]]\n"
     ]
    },
    {
     "ename": "TypeError",
     "evalue": "pad() missing 2 required positional arguments: 'array' and 'pad_width'",
     "output_type": "error",
     "traceback": [
      "\u001b[1;31m---------------------------------------------------------------------------\u001b[0m",
      "\u001b[1;31mTypeError\u001b[0m                                 Traceback (most recent call last)",
      "Cell \u001b[1;32mIn[124], line 8\u001b[0m\n\u001b[0;32m      4\u001b[0m \u001b[38;5;28mprint\u001b[39m(k)\n\u001b[0;32m      6\u001b[0m \u001b[38;5;66;03m# or\u001b[39;00m\n\u001b[1;32m----> 8\u001b[0m \u001b[43mnp\u001b[49m\u001b[38;5;241;43m.\u001b[39;49m\u001b[43mpad\u001b[49m\u001b[43m(\u001b[49m\u001b[43m)\u001b[49m\n",
      "\u001b[1;31mTypeError\u001b[0m: pad() missing 2 required positional arguments: 'array' and 'pad_width'"
     ]
    }
   ],
   "source": [
    "k = np.random.randint(0,10,size=(5,5))\n",
    "k[[0,-1],:]=0\n",
    "k[:,[0,-1]]=0\n",
    "print(k)\n",
    "\n",
    "# or\n",
    "\n",
    "np.pad()"
   ]
  },
  {
   "cell_type": "markdown",
   "id": "7657a84c-84cf-4aa9-ba17-9e0bfd0d807d",
   "metadata": {},
   "source": [
    "### 17. What is the result of the following expression?"
   ]
  },
  {
   "cell_type": "code",
   "execution_count": 125,
   "id": "7a0cacf9-dd03-4209-8fec-10f53a3bf0eb",
   "metadata": {},
   "outputs": [
    {
     "ename": "AttributeError",
     "evalue": "module 'numpy' has no attribute 'nafenp'",
     "output_type": "error",
     "traceback": [
      "\u001b[1;31m---------------------------------------------------------------------------\u001b[0m",
      "\u001b[1;31mAttributeError\u001b[0m                            Traceback (most recent call last)",
      "Cell \u001b[1;32mIn[125], line 1\u001b[0m\n\u001b[1;32m----> 1\u001b[0m \u001b[38;5;241m0\u001b[39m \u001b[38;5;241m*\u001b[39m \u001b[43mnp\u001b[49m\u001b[38;5;241;43m.\u001b[39;49m\u001b[43mnafenp\u001b[49m\u001b[38;5;241m.\u001b[39mnan \u001b[38;5;241m==\u001b[39m np\u001b[38;5;241m.\u001b[39mnan\n\u001b[0;32m      2\u001b[0m np\u001b[38;5;241m.\u001b[39minf \u001b[38;5;241m>\u001b[39m np\u001b[38;5;241m.\u001b[39mnan\n\u001b[0;32m      3\u001b[0m np\u001b[38;5;241m.\u001b[39mnan \u001b[38;5;241m-\u001b[39m np\u001b[38;5;241m.\u001b[39mnan\n",
      "File \u001b[1;32m~\\AppData\\Local\\Programs\\Python\\Python312\\Lib\\site-packages\\numpy\\__init__.py:428\u001b[0m, in \u001b[0;36m__getattr__\u001b[1;34m(attr)\u001b[0m\n\u001b[0;32m    425\u001b[0m     \u001b[38;5;28;01mimport\u001b[39;00m \u001b[38;5;21;01mnumpy\u001b[39;00m\u001b[38;5;21;01m.\u001b[39;00m\u001b[38;5;21;01mchar\u001b[39;00m \u001b[38;5;28;01mas\u001b[39;00m \u001b[38;5;21;01mchar\u001b[39;00m\n\u001b[0;32m    426\u001b[0m     \u001b[38;5;28;01mreturn\u001b[39;00m char\u001b[38;5;241m.\u001b[39mchararray\n\u001b[1;32m--> 428\u001b[0m \u001b[38;5;28;01mraise\u001b[39;00m \u001b[38;5;167;01mAttributeError\u001b[39;00m(\u001b[38;5;124m\"\u001b[39m\u001b[38;5;124mmodule \u001b[39m\u001b[38;5;132;01m{!r}\u001b[39;00m\u001b[38;5;124m has no attribute \u001b[39m\u001b[38;5;124m\"\u001b[39m\n\u001b[0;32m    429\u001b[0m                      \u001b[38;5;124m\"\u001b[39m\u001b[38;5;132;01m{!r}\u001b[39;00m\u001b[38;5;124m\"\u001b[39m\u001b[38;5;241m.\u001b[39mformat(\u001b[38;5;18m__name__\u001b[39m, attr))\n",
      "\u001b[1;31mAttributeError\u001b[0m: module 'numpy' has no attribute 'nafenp'"
     ]
    }
   ],
   "source": [
    "0 * np.nafenp.nan == np.nan\n",
    "np.inf > np.nan\n",
    "np.nan - np.nan\n",
    "np.nan in set([np.nan])\n",
    "0.3 == 3 * 0.1"
   ]
  },
  {
   "cell_type": "markdown",
   "id": "33a0c44e-6446-4fe0-bd2c-c1bd92cfc6f9",
   "metadata": {},
   "source": [
    "### 18. Create a 5x5 matrix with values 1,2,3,4 just below the diagonal"
   ]
  },
  {
   "cell_type": "code",
   "execution_count": 152,
   "id": "8f6e6b14-b864-401a-a92c-6b1fe1608545",
   "metadata": {},
   "outputs": [
    {
     "data": {
      "text/plain": [
       "array([[ 1, 14, 12, 14,  3],\n",
       "       [ 8, 14, 12, 14,  1],\n",
       "       [10, 22,  4, 13, 23],\n",
       "       [12, 14,  3, 18,  2],\n",
       "       [18, 23, 17, 17,  7]], dtype=int32)"
      ]
     },
     "execution_count": 152,
     "metadata": {},
     "output_type": "execute_result"
    }
   ],
   "source": [
    "arr1=np.random.randint(1,25,25).reshape(5,5)\n",
    "arr1"
   ]
  },
  {
   "cell_type": "code",
   "execution_count": 151,
   "id": "1076de7a-2c2e-4cf8-97be-e808fe5f600b",
   "metadata": {},
   "outputs": [
    {
     "data": {
      "text/plain": [
       "array([17, 16,  6,  6], dtype=int32)"
      ]
     },
     "execution_count": 151,
     "metadata": {},
     "output_type": "execute_result"
    }
   ],
   "source": [
    "np.diag(arr1,k=-1)"
   ]
  },
  {
   "cell_type": "code",
   "execution_count": 145,
   "id": "5fe6b9d9-7679-435d-b7fc-9432603dc4fa",
   "metadata": {},
   "outputs": [
    {
     "name": "stdout",
     "output_type": "stream",
     "text": [
      "[[0 0 0 0 0]\n",
      " [1 0 0 0 0]\n",
      " [0 2 0 0 0]\n",
      " [0 0 3 0 0]\n",
      " [0 0 0 4 0]]\n"
     ]
    }
   ],
   "source": [
    "Z = np.diag(1+np.arange(4),k=-1)\n",
    "print(Z)"
   ]
  },
  {
   "cell_type": "markdown",
   "id": "ca8fd7af-8a58-4922-b888-2743e3bc7d0c",
   "metadata": {},
   "source": [
    "### 19. Create a 8x8 matrix and fill it with a checkerboard pattern"
   ]
  },
  {
   "cell_type": "code",
   "execution_count": 162,
   "id": "859901db-44e9-471e-96f4-45b4b162385b",
   "metadata": {},
   "outputs": [
    {
     "data": {
      "text/plain": [
       "array([[1, 0, 1, 0, 1, 0, 1, 0],\n",
       "       [0, 1, 0, 1, 0, 1, 0, 1],\n",
       "       [1, 0, 1, 0, 1, 0, 1, 0],\n",
       "       [0, 1, 0, 1, 0, 1, 0, 1],\n",
       "       [1, 0, 1, 0, 1, 0, 1, 0],\n",
       "       [0, 1, 0, 1, 0, 1, 0, 1],\n",
       "       [1, 0, 1, 0, 1, 0, 1, 0],\n",
       "       [0, 1, 0, 1, 0, 1, 0, 1]])"
      ]
     },
     "execution_count": 162,
     "metadata": {},
     "output_type": "execute_result"
    }
   ],
   "source": [
    "x = np.zeros((8,8),dtype=int)\n",
    "x[1::2,1::2]=1\n",
    "x[::2,::2]=1\n",
    "x"
   ]
  },
  {
   "cell_type": "markdown",
   "id": "e2b425d7-32dd-4605-be66-58409f0a3929",
   "metadata": {},
   "source": [
    "### 20. Consider a (6,7,8) shape array, what is the index (x,y,z) of the    100th element? "
   ]
  },
  {
   "cell_type": "code",
   "execution_count": 168,
   "id": "1b329d07-ce90-48cd-819e-c7e94bb10282",
   "metadata": {},
   "outputs": [
    {
     "data": {
      "text/plain": [
       "(1, 5, 3)"
      ]
     },
     "execution_count": 168,
     "metadata": {},
     "output_type": "execute_result"
    }
   ],
   "source": [
    "np.unravel_index(99,(6,7,8))\n",
    "\n",
    "x = np.unravel_index(99,(6,7,8))\n",
    "result = tuple(int(i) for i in x)\n",
    "result"
   ]
  },
  {
   "cell_type": "markdown",
   "id": "d9518dbd-8f61-4ff7-bca8-b93836abd2db",
   "metadata": {},
   "source": [
    "### 21. Create a checkerboard 8x8 matrix using the tile function"
   ]
  },
  {
   "cell_type": "code",
   "execution_count": 169,
   "id": "54430c63-0b8a-44e0-97c7-7636f7a24a79",
   "metadata": {},
   "outputs": [
    {
     "data": {
      "text/plain": [
       "array([[1, 0, 1, 0, 1, 0, 1, 0],\n",
       "       [0, 1, 0, 1, 0, 1, 0, 1],\n",
       "       [1, 0, 1, 0, 1, 0, 1, 0],\n",
       "       [0, 1, 0, 1, 0, 1, 0, 1],\n",
       "       [1, 0, 1, 0, 1, 0, 1, 0],\n",
       "       [0, 1, 0, 1, 0, 1, 0, 1],\n",
       "       [1, 0, 1, 0, 1, 0, 1, 0],\n",
       "       [0, 1, 0, 1, 0, 1, 0, 1]])"
      ]
     },
     "execution_count": 169,
     "metadata": {},
     "output_type": "execute_result"
    }
   ],
   "source": [
    "arr1 = np.array([[1,0],\n",
    "                 [0,1]])\n",
    "np.tile(arr1,(4,4))"
   ]
  },
  {
   "cell_type": "markdown",
   "id": "efc54d8d-4590-42b5-b142-6f44111c10d9",
   "metadata": {},
   "source": [
    "### 22. Normalize a 5x5 random matrix"
   ]
  },
  {
   "cell_type": "markdown",
   "id": "4fda7444-b10a-4196-a8c3-b9047c07e16e",
   "metadata": {},
   "source": [
    "normalized = arr - min(arr) / max(arr) - min(arr)\n",
    "\n",
    "std_deviation = max(arr) - min(arr)"
   ]
  },
  {
   "cell_type": "code",
   "execution_count": 180,
   "id": "51a212c9-48e5-45bc-9683-7f12b83d8313",
   "metadata": {},
   "outputs": [
    {
     "name": "stdout",
     "output_type": "stream",
     "text": [
      "[[-0.89104211  1.46759877 -0.89104211 -1.41518453 -0.4979353 ]\n",
      " [-0.10482848  1.59863438  0.28827833  1.33656317  0.41931393]\n",
      " [ 0.68138514 -1.28414892  0.15724273  0.02620712  1.07449196]\n",
      " [ 1.72966998 -1.28414892 -1.15311332  1.20552756 -1.15311332]\n",
      " [-0.36689969  0.15724273 -1.41518453 -0.10482848  0.41931393]]\n"
     ]
    }
   ],
   "source": [
    "arr = np.random.randint(1,26,25).reshape(5,5)\n",
    "normalized =(arr - np.mean (arr)) / (np.std (arr))\n",
    "print(normalized)"
   ]
  },
  {
   "cell_type": "markdown",
   "id": "d4b2c021-1103-4bf6-9480-7a96e71b78e2",
   "metadata": {},
   "source": [
    "### 23. Create a custom dtype that describes a color as four unsigned bytes (RGBA)"
   ]
  },
  {
   "cell_type": "code",
   "execution_count": 181,
   "id": "973c4574-2730-4c0e-8cc6-30aa70fb234e",
   "metadata": {},
   "outputs": [],
   "source": [
    "color = np.dtype([(\"r\", np.ubyte),\n",
    "                  (\"g\", np.ubyte),\n",
    "                  (\"b\", np.ubyte),\n",
    "                  (\"a\", np.ubyte)])"
   ]
  },
  {
   "cell_type": "markdown",
   "id": "7ddbea33-f6df-4351-9907-3193ef6f0e07",
   "metadata": {},
   "source": [
    "### 24. Multiply a 5x3 matrix by a 3x2 matrix (real matrix product)"
   ]
  },
  {
   "cell_type": "code",
   "execution_count": 184,
   "id": "e528a29c-4dc3-4b1c-b671-637892f16a72",
   "metadata": {},
   "outputs": [
    {
     "data": {
      "text/plain": [
       "array([[3., 3.],\n",
       "       [3., 3.],\n",
       "       [3., 3.],\n",
       "       [3., 3.],\n",
       "       [3., 3.]])"
      ]
     },
     "execution_count": 184,
     "metadata": {},
     "output_type": "execute_result"
    }
   ],
   "source": [
    "a = np.dot(np.ones((5,3)),np.ones((3,2)))\n",
    "a"
   ]
  },
  {
   "cell_type": "markdown",
   "id": "66b7e564-31da-4117-aa18-9b2c9dda1ba2",
   "metadata": {},
   "source": [
    "### 25. Given a 1D array, negate all elements which are between 3 and 8, in place."
   ]
  },
  {
   "cell_type": "code",
   "execution_count": 191,
   "id": "89db0c23-1ee6-4de9-9692-474709088a0d",
   "metadata": {},
   "outputs": [
    {
     "data": {
      "text/plain": [
       "array([ 0,  1,  2,  3, -4, -5, -6, -7,  8,  9, 10])"
      ]
     },
     "execution_count": 191,
     "metadata": {},
     "output_type": "execute_result"
    }
   ],
   "source": [
    "arr2 = np.arange(11)\n",
    "arr2[(3<arr2) & (arr2<8)] = -arr2[(3<arr2) & (arr2<8)]\n",
    "arr2"
   ]
  },
  {
   "cell_type": "markdown",
   "id": "36636263-0cde-4797-a510-e08d34accab7",
   "metadata": {},
   "source": [
    "### 26. What is the output of the following script?"
   ]
  },
  {
   "cell_type": "markdown",
   "id": "12d550b3-cc77-4350-9104-2d65f53bae70",
   "metadata": {},
   "source": [
    ". print(sum(range(5),-1))\n",
    "\n",
    ". from numpy import *\n",
    "\n",
    ". print(sum(range(5),-1))"
   ]
  },
  {
   "cell_type": "code",
   "execution_count": 192,
   "id": "008162ba-d980-48bc-8e15-cab2add76098",
   "metadata": {},
   "outputs": [
    {
     "name": "stdout",
     "output_type": "stream",
     "text": [
      "9\n"
     ]
    }
   ],
   "source": [
    "print(sum(range(5),-1))"
   ]
  },
  {
   "cell_type": "code",
   "execution_count": null,
   "id": "5a9c695e-bfa6-4175-bbc4-a2af0d72761b",
   "metadata": {},
   "outputs": [],
   "source": []
  }
 ],
 "metadata": {
  "kernelspec": {
   "display_name": "Python 3 (ipykernel)",
   "language": "python",
   "name": "python3"
  },
  "language_info": {
   "codemirror_mode": {
    "name": "ipython",
    "version": 3
   },
   "file_extension": ".py",
   "mimetype": "text/x-python",
   "name": "python",
   "nbconvert_exporter": "python",
   "pygments_lexer": "ipython3",
   "version": "3.12.6"
  }
 },
 "nbformat": 4,
 "nbformat_minor": 5
}
